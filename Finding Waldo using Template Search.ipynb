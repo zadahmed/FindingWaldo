{
 "cells": [
  {
   "cell_type": "code",
   "execution_count": 3,
   "metadata": {},
   "outputs": [],
   "source": [
    "import cv2\n",
    "import numpy as np\n",
    "\n",
    "waldobeach = cv2.imread('C:\\\\Users\\\\Zahid\\\\Desktop\\\\Deep Learning\\\\waldofinal.jpg')\n",
    "cv2.imshow('Where is Waldo?',waldobeach)\n",
    "cv2.waitKey()\n",
    "\n",
    "gray = cv2.cvtColor(waldobeach , cv2.COLOR_BGR2GRAY)\n",
    "\n",
    "waldo = cv2.imread('C:\\\\Users\\\\Zahid\\\\Desktop\\\\Deep Learning\\\\waldo.jpg', 0)\n",
    "result = cv2.matchTemplate(gray , waldo , cv2.TM_CCOEFF ) #corelation coefficient matching method\n",
    "min_val , max_val , min_loc , max_loc = cv2.minMaxLoc(result) #retunrs coordinate of bounding box\n",
    "\n",
    "#create bounding box\n",
    "top_left = max_loc\n",
    "bottom_right = (top_left[0] + 50 , top_left[1] + 50) #making the box bigger\n",
    "cv2.rectangle(waldobeach , top_left , bottom_right , (0,0,255) , 5)\n",
    "\n",
    "cv2.imshow('Where is waldo?' , waldobeach)\n",
    "cv2.waitKey()\n",
    "cv2.destroyAllWindows()"
   ]
  },
  {
   "cell_type": "code",
   "execution_count": null,
   "metadata": {},
   "outputs": [],
   "source": []
  }
 ],
 "metadata": {
  "kernelspec": {
   "display_name": "Python 3",
   "language": "python",
   "name": "python3"
  },
  "language_info": {
   "codemirror_mode": {
    "name": "ipython",
    "version": 3
   },
   "file_extension": ".py",
   "mimetype": "text/x-python",
   "name": "python",
   "nbconvert_exporter": "python",
   "pygments_lexer": "ipython3",
   "version": "3.7.1"
  }
 },
 "nbformat": 4,
 "nbformat_minor": 2
}
